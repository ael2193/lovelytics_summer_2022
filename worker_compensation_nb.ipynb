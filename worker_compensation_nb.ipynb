{
 "cells": [
  {
   "cell_type": "code",
   "execution_count": 1,
   "metadata": {},
   "outputs": [],
   "source": [
    "\n",
    "import pandas as pd \n",
    "import numpy as np\n",
    "import plotly \n",
    "from matplotlib import pyplot as plt\n",
    "import os \n",
    "from datetime import datetime, timedelta\n",
    "# pd.set_option(\"display.max_rows\", None)\n"
   ]
  },
  {
   "cell_type": "code",
   "execution_count": 2,
   "metadata": {},
   "outputs": [],
   "source": [
    "data_file_path = \"C:/Users/govindd1/Downloads/compenstion_data.csv\""
   ]
  },
  {
   "cell_type": "code",
   "execution_count": 3,
   "metadata": {},
   "outputs": [
    {
     "name": "stderr",
     "output_type": "stream",
     "text": [
      "c:\\Users\\govindd1\\AppData\\Local\\Programs\\Python\\Python39\\lib\\site-packages\\IPython\\core\\interactiveshell.py:3444: DtypeWarning: Columns (22,33,34,35,36,37,38,39,40,41,42,43,44,45,46) have mixed types.Specify dtype option on import or set low_memory=False.\n",
      "  exec(code_obj, self.user_global_ns, self.user_ns)\n"
     ]
    }
   ],
   "source": [
    "df = pd.read_csv(data_file_path)"
   ]
  },
  {
   "cell_type": "markdown",
   "metadata": {},
   "source": [
    "##### * Normal EDA to find the nature of Data "
   ]
  },
  {
   "cell_type": "code",
   "execution_count": 4,
   "metadata": {},
   "outputs": [
    {
     "data": {
      "text/html": [
       "<div>\n",
       "<style scoped>\n",
       "    .dataframe tbody tr th:only-of-type {\n",
       "        vertical-align: middle;\n",
       "    }\n",
       "\n",
       "    .dataframe tbody tr th {\n",
       "        vertical-align: top;\n",
       "    }\n",
       "\n",
       "    .dataframe thead th {\n",
       "        text-align: right;\n",
       "    }\n",
       "</style>\n",
       "<table border=\"1\" class=\"dataframe\">\n",
       "  <thead>\n",
       "    <tr style=\"text-align: right;\">\n",
       "      <th></th>\n",
       "      <th>Missing Ratio</th>\n",
       "    </tr>\n",
       "  </thead>\n",
       "  <tbody>\n",
       "    <tr>\n",
       "      <th>PTD Date</th>\n",
       "      <td>99.885995</td>\n",
       "    </tr>\n",
       "    <tr>\n",
       "      <th>PPD Non-Scheduled Loss Date</th>\n",
       "      <td>97.677162</td>\n",
       "    </tr>\n",
       "    <tr>\n",
       "      <th>First Appeal Date</th>\n",
       "      <td>96.428129</td>\n",
       "    </tr>\n",
       "    <tr>\n",
       "      <th>Section 32 Date</th>\n",
       "      <td>94.534755</td>\n",
       "    </tr>\n",
       "    <tr>\n",
       "      <th>Controverted Date</th>\n",
       "      <td>90.357545</td>\n",
       "    </tr>\n",
       "    <tr>\n",
       "      <th>PPD Scheduled Loss Date</th>\n",
       "      <td>88.207071</td>\n",
       "    </tr>\n",
       "    <tr>\n",
       "      <th>OIICS Secondary Source Description</th>\n",
       "      <td>74.620505</td>\n",
       "    </tr>\n",
       "    <tr>\n",
       "      <th>OIICS Secondary Source Code</th>\n",
       "      <td>74.620505</td>\n",
       "    </tr>\n",
       "    <tr>\n",
       "      <th>OIICS Injury Source Description</th>\n",
       "      <td>74.619772</td>\n",
       "    </tr>\n",
       "    <tr>\n",
       "      <th>OIICS Injury Source Code</th>\n",
       "      <td>74.619772</td>\n",
       "    </tr>\n",
       "    <tr>\n",
       "      <th>OIICS Event Exposure Description</th>\n",
       "      <td>74.619705</td>\n",
       "    </tr>\n",
       "    <tr>\n",
       "      <th>OIICS Event Exposure Code</th>\n",
       "      <td>74.619705</td>\n",
       "    </tr>\n",
       "    <tr>\n",
       "      <th>OIICS Nature of Injury Description</th>\n",
       "      <td>74.619505</td>\n",
       "    </tr>\n",
       "    <tr>\n",
       "      <th>OIICS Part Of Body Code</th>\n",
       "      <td>74.619505</td>\n",
       "    </tr>\n",
       "    <tr>\n",
       "      <th>OIICS Part Of Body Description</th>\n",
       "      <td>74.619505</td>\n",
       "    </tr>\n",
       "    <tr>\n",
       "      <th>OIICS Nature of Injury Code</th>\n",
       "      <td>74.619505</td>\n",
       "    </tr>\n",
       "    <tr>\n",
       "      <th>IME-4 Count</th>\n",
       "      <td>74.491877</td>\n",
       "    </tr>\n",
       "    <tr>\n",
       "      <th>First Hearing Date</th>\n",
       "      <td>66.587011</td>\n",
       "    </tr>\n",
       "    <tr>\n",
       "      <th>C-3 Date</th>\n",
       "      <td>62.547919</td>\n",
       "    </tr>\n",
       "    <tr>\n",
       "      <th>Interval Assembled to ANCR</th>\n",
       "      <td>46.238720</td>\n",
       "    </tr>\n",
       "    <tr>\n",
       "      <th>ANCR Date</th>\n",
       "      <td>46.237342</td>\n",
       "    </tr>\n",
       "    <tr>\n",
       "      <th>WCIO Part Of Body Code</th>\n",
       "      <td>45.152805</td>\n",
       "    </tr>\n",
       "    <tr>\n",
       "      <th>WCIO Part Of Body Description</th>\n",
       "      <td>45.152805</td>\n",
       "    </tr>\n",
       "    <tr>\n",
       "      <th>WCIO Nature of Injury Code</th>\n",
       "      <td>44.996553</td>\n",
       "    </tr>\n",
       "    <tr>\n",
       "      <th>WCIO Nature of Injury Description</th>\n",
       "      <td>44.996553</td>\n",
       "    </tr>\n",
       "    <tr>\n",
       "      <th>WCIO Cause of Injury Code</th>\n",
       "      <td>44.989820</td>\n",
       "    </tr>\n",
       "    <tr>\n",
       "      <th>WCIO Cause of Injury Description</th>\n",
       "      <td>44.989820</td>\n",
       "    </tr>\n",
       "    <tr>\n",
       "      <th>Industry Code Description</th>\n",
       "      <td>39.409636</td>\n",
       "    </tr>\n",
       "    <tr>\n",
       "      <th>Industry Code</th>\n",
       "      <td>39.409636</td>\n",
       "    </tr>\n",
       "    <tr>\n",
       "      <th>C-2 Date</th>\n",
       "      <td>9.730659</td>\n",
       "    </tr>\n",
       "    <tr>\n",
       "      <th>Accident Date</th>\n",
       "      <td>0.902263</td>\n",
       "    </tr>\n",
       "  </tbody>\n",
       "</table>\n",
       "</div>"
      ],
      "text/plain": [
       "                                    Missing Ratio\n",
       "PTD Date                                99.885995\n",
       "PPD Non-Scheduled Loss Date             97.677162\n",
       "First Appeal Date                       96.428129\n",
       "Section 32 Date                         94.534755\n",
       "Controverted Date                       90.357545\n",
       "PPD Scheduled Loss Date                 88.207071\n",
       "OIICS Secondary Source Description      74.620505\n",
       "OIICS Secondary Source Code             74.620505\n",
       "OIICS Injury Source Description         74.619772\n",
       "OIICS Injury Source Code                74.619772\n",
       "OIICS Event Exposure Description        74.619705\n",
       "OIICS Event Exposure Code               74.619705\n",
       "OIICS Nature of Injury Description      74.619505\n",
       "OIICS Part Of Body Code                 74.619505\n",
       "OIICS Part Of Body Description          74.619505\n",
       "OIICS Nature of Injury Code             74.619505\n",
       "IME-4 Count                             74.491877\n",
       "First Hearing Date                      66.587011\n",
       "C-3 Date                                62.547919\n",
       "Interval Assembled to ANCR              46.238720\n",
       "ANCR Date                               46.237342\n",
       "WCIO Part Of Body Code                  45.152805\n",
       "WCIO Part Of Body Description           45.152805\n",
       "WCIO Nature of Injury Code              44.996553\n",
       "WCIO Nature of Injury Description       44.996553\n",
       "WCIO Cause of Injury Code               44.989820\n",
       "WCIO Cause of Injury Description        44.989820\n",
       "Industry Code Description               39.409636\n",
       "Industry Code                           39.409636\n",
       "C-2 Date                                 9.730659\n",
       "Accident Date                            0.902263"
      ]
     },
     "execution_count": 4,
     "metadata": {},
     "output_type": "execute_result"
    }
   ],
   "source": [
    "#checking the Fillrate \n",
    "null_rate = (df.isnull().sum()/len(df))*100\n",
    "null_rate = null_rate.drop(null_rate[null_rate == 0].index).sort_values(ascending=False)\n",
    "missing_data = pd.DataFrame({'Missing Ratio' : null_rate})\n",
    "missing_data"
   ]
  },
  {
   "cell_type": "code",
   "execution_count": 5,
   "metadata": {},
   "outputs": [],
   "source": [
    "df.drop(['PTD Date', 'PPD Non-Scheduled Loss Date', 'First Appeal Date', 'Section 32 Date', 'Controverted Date', 'PPD Scheduled Loss Date' ], axis=1, inplace=True)\n"
   ]
  },
  {
   "cell_type": "code",
   "execution_count": 6,
   "metadata": {},
   "outputs": [
    {
     "data": {
      "text/plain": [
       "Index(['Accident', 'Accident Date', 'Age at Injury',\n",
       "       'Alternative Dispute Resolution', 'ANCR Date', 'Assembly Date',\n",
       "       'Attorney/Representative', 'Average Weekly Wage', 'Birth Year',\n",
       "       'C-2 Date', 'C-3 Date', 'Carrier Name', 'Carrier Type',\n",
       "       'Claim Identifier', 'Claim Injury Type', 'Claim Type', 'Closed Count',\n",
       "       'County of Injury', 'COVID-19 Indicator', 'Current Claim Status',\n",
       "       'District Name', 'First Hearing Date', 'Gender', 'Hearing Count',\n",
       "       'Highest Process', 'IME-4 Count', 'Industry Code',\n",
       "       'Industry Code Description', 'Interval Assembled to ANCR',\n",
       "       'Medical Fee Region', 'Occupational Disease',\n",
       "       'OIICS Event Exposure Code', 'OIICS Event Exposure Description',\n",
       "       'OIICS Injury Source Code', 'OIICS Injury Source Description',\n",
       "       'OIICS Nature of Injury Code', 'OIICS Nature of Injury Description',\n",
       "       'OIICS Part Of Body Code', 'OIICS Part Of Body Description',\n",
       "       'OIICS Secondary Source Code', 'OIICS Secondary Source Description',\n",
       "       'WCIO Cause of Injury Code', 'WCIO Cause of Injury Description',\n",
       "       'WCIO Nature of Injury Code', 'WCIO Nature of Injury Description',\n",
       "       'WCIO Part Of Body Code', 'WCIO Part Of Body Description', 'Zip Code'],\n",
       "      dtype='object')"
      ]
     },
     "execution_count": 6,
     "metadata": {},
     "output_type": "execute_result"
    }
   ],
   "source": [
    "df.columns"
   ]
  },
  {
   "cell_type": "code",
   "execution_count": 11,
   "metadata": {},
   "outputs": [
    {
     "data": {
      "text/plain": [
       "NO FURTHER ACTION              3923702\n",
       "ADMINISTRATIVELY CLOSED         362245\n",
       "CASE CANCELLED                   95324\n",
       "NEWLY ASSEMBLED                  44616\n",
       "MOTION SET                       22861\n",
       "HEARING UNSET                    17195\n",
       "HEARING SET                      14840\n",
       "RE-OPENED ADMINISTRATIVELY       14506\n",
       "RETURNED TO EXAMINING             4396\n",
       "REFEREE - RESERVED DECISION        112\n",
       "ARGUMENT SET                         1\n",
       "Name: Current Claim Status, dtype: int64"
      ]
     },
     "execution_count": 11,
     "metadata": {},
     "output_type": "execute_result"
    }
   ],
   "source": [
    "df['Current Claim Status'].value_counts()"
   ]
  },
  {
   "cell_type": "code",
   "execution_count": null,
   "metadata": {},
   "outputs": [],
   "source": []
  },
  {
   "cell_type": "code",
   "execution_count": 30,
   "metadata": {},
   "outputs": [],
   "source": [
    "# removing less relevant columns \n",
    "\n",
    "df.drop([\n",
    "       'COVID-19 Indicator', 'Highest Process', 'IME-4 Count','C-2 Date',\n",
    "       'C-3 Date', 'Highest Process', 'IME-4 Count', 'Hearing Count'], axis=1, inplace=True)\n"
   ]
  },
  {
   "cell_type": "code",
   "execution_count": 64,
   "metadata": {},
   "outputs": [
    {
     "data": {
      "text/plain": [
       "LOWER BACK AREA                                          281757\n",
       "KNEE                                                     225661\n",
       "FINGER(S)                                                180835\n",
       "SHOULDER(S)                                              169276\n",
       "MULTIPLE BODY PARTS (INCLUDING BODY                      161337\n",
       "HAND                                                     146663\n",
       "ANKLE                                                    104356\n",
       "WRIST                                                     86379\n",
       "FOOT                                                      83327\n",
       "SOFT TISSUE                                               82716\n",
       "LOWER ARM                                                 75909\n",
       "EYE(S)                                                    65675\n",
       "THUMB                                                     60769\n",
       "LOWER LEG                                                 55517\n",
       "MULTIPLE HEAD INJURY                                      54922\n",
       "UPPER ARM                                                 51405\n",
       "ELBOW                                                     47596\n",
       "UPPER BACK AREA                                           38442\n",
       "CHEST                                                     35789\n",
       "ABDOMEN INCLUDING GROIN                                   31708\n",
       "SKULL                                                     31056\n",
       "MULTIPLE NECK INJURY                                      30668\n",
       "LUNGS                                                     27691\n",
       "HIP                                                       26940\n",
       "NO PHYSICAL INJURY                                        22705\n",
       "MULTIPLE UPPER EXTREMITIES                                21715\n",
       "BODY SYSTEMS AND MULTIPLE BODY SYSTEMS                    21095\n",
       "INSUFFICIENT INFO TO PROPERLY IDENTIFY - UNCLASSIFIED     21027\n",
       "UPPER LEG                                                 19821\n",
       "FACIAL BONES                                              18832\n",
       "DISC                                                      16615\n",
       "EAR(S)                                                    14107\n",
       "WRIST (S) & HAND(S)                                       13655\n",
       "MULTIPLE TRUNK                                            13520\n",
       "TOES                                                      13204\n",
       "MULTIPLE LOWER EXTREMITIES                                13030\n",
       "NOSE                                                      10998\n",
       "INTERNAL ORGANS                                           10756\n",
       "MOUTH                                                      9308\n",
       "BRAIN                                                      8058\n",
       "GREAT TOE                                                  8035\n",
       "LUMBAR & OR SACRAL VERTEBRAE (VERTEBRA                     6762\n",
       "VERTEBRAE                                                  5217\n",
       "BUTTOCKS                                                   5123\n",
       "TEETH                                                      4622\n",
       "WHOLE BODY                                                 4491\n",
       "PELVIS                                                     3727\n",
       "HEART                                                      3654\n",
       "SPINAL CORD                                                2897\n",
       "SACRUM AND COCCYX                                          2393\n",
       "LARYNX                                                      707\n",
       "TRACHEA                                                     457\n",
       "ARTIFICIAL APPLIANCE                                        139\n",
       "Name: WCIO Part Of Body Description, dtype: int64"
      ]
     },
     "execution_count": 64,
     "metadata": {},
     "output_type": "execute_result"
    }
   ],
   "source": [
    "df['WCIO Part Of Body Description'].value_counts()"
   ]
  },
  {
   "cell_type": "code",
   "execution_count": 11,
   "metadata": {},
   "outputs": [],
   "source": [
    "df = df.dropna(how='all')"
   ]
  },
  {
   "cell_type": "code",
   "execution_count": 12,
   "metadata": {},
   "outputs": [
    {
     "data": {
      "text/plain": [
       "38.75721021254732"
      ]
     },
     "execution_count": 12,
     "metadata": {},
     "output_type": "execute_result"
    }
   ],
   "source": [
    "df['Age at Injury'].mean()"
   ]
  },
  {
   "cell_type": "code",
   "execution_count": 13,
   "metadata": {},
   "outputs": [
    {
     "data": {
      "text/plain": [
       "41.0"
      ]
     },
     "execution_count": 13,
     "metadata": {},
     "output_type": "execute_result"
    }
   ],
   "source": [
    "df['Age at Injury'].median()"
   ]
  },
  {
   "cell_type": "code",
   "execution_count": 31,
   "metadata": {},
   "outputs": [],
   "source": [
    "df['Accident Date'] = pd.to_datetime(df['Accident Date'])"
   ]
  },
  {
   "cell_type": "code",
   "execution_count": 32,
   "metadata": {},
   "outputs": [],
   "source": [
    "df['accident_year'] = df['Accident Date'].dt.strftime('%Y')\n",
    "df['accident_year'] = pd.to_numeric(df['accident_year'], errors='coerce').convert_dtypes() \n",
    "# df['accident_year'] "
   ]
  },
  {
   "cell_type": "code",
   "execution_count": 33,
   "metadata": {},
   "outputs": [],
   "source": [
    "df['accident_month'] = df['Accident Date'].dt.strftime('%m')\n",
    "df['accident_month'] = pd.to_numeric(df['accident_month'], errors='coerce').convert_dtypes() \n",
    "# df['accident_month'] "
   ]
  },
  {
   "cell_type": "code",
   "execution_count": 34,
   "metadata": {},
   "outputs": [],
   "source": [
    "value_counts = df['accident_year'].value_counts()\n",
    "# value_counts"
   ]
  },
  {
   "cell_type": "code",
   "execution_count": 18,
   "metadata": {},
   "outputs": [
    {
     "data": {
      "text/plain": [
       "0       550420\n",
       "1963    110710\n",
       "1964    108926\n",
       "1961    107016\n",
       "1962    106821\n",
       "         ...  \n",
       "1900         3\n",
       "1906         3\n",
       "2018         2\n",
       "2014         2\n",
       "2012         2\n",
       "Name: Birth Year, Length: 117, dtype: int64"
      ]
     },
     "execution_count": 18,
     "metadata": {},
     "output_type": "execute_result"
    }
   ],
   "source": [
    "df['Birth Year'].value_counts()"
   ]
  },
  {
   "cell_type": "markdown",
   "metadata": {},
   "source": [
    "##### * find the lag in days inbetween each processes"
   ]
  },
  {
   "cell_type": "code",
   "execution_count": 53,
   "metadata": {},
   "outputs": [],
   "source": [
    "df['Accident Date'] = pd.to_datetime(df['Accident Date'])\n",
    "df['ANCR Date']  = pd.to_datetime(df['ANCR Date'])\n",
    "# df['Controverted Date']  = pd.to_datetime(df['Controverted Date'])\n",
    "# df['Section 32 Date']  = pd.to_datetime(df['Section 32 Date'])\n",
    "# df['Assembly Date']  = pd.to_datetime(df['Assembly Date'])\n",
    "# df['']  = pd.to_datetime(df[''])\n"
   ]
  },
  {
   "cell_type": "code",
   "execution_count": 55,
   "metadata": {},
   "outputs": [],
   "source": [
    "# days inbetween Accident and reporting to insurance company\n",
    "df['days_btw_accident_and_claim_estd'] =  (df['ANCR Date'] - df['Accident Date']).dt.days\n",
    "# df['days_btw_accident_and_claim_estd'].value_counts()"
   ]
  },
  {
   "cell_type": "code",
   "execution_count": 56,
   "metadata": {},
   "outputs": [
    {
     "data": {
      "text/plain": [
       "105.0      11577\n",
       "98.0       11505\n",
       "112.0      11407\n",
       "119.0      11322\n",
       "126.0      11301\n",
       "           ...  \n",
       "14237.0        1\n",
       "6896.0         1\n",
       "5986.0         1\n",
       "7073.0         1\n",
       "8347.0         1\n",
       "Name: days_btw_accident_and_claim_estd, Length: 8140, dtype: int64"
      ]
     },
     "execution_count": 56,
     "metadata": {},
     "output_type": "execute_result"
    }
   ],
   "source": [
    "df['days_btw_accident_and_claim_estd'].value_counts()"
   ]
  },
  {
   "cell_type": "code",
   "execution_count": 60,
   "metadata": {},
   "outputs": [
    {
     "data": {
      "text/plain": [
       "False    4499798\n",
       "Name: days_btw_accident_and_claim_estd, dtype: int64"
      ]
     },
     "execution_count": 60,
     "metadata": {},
     "output_type": "execute_result"
    }
   ],
   "source": [
    "# (df['days_btw_accident_and_claim_estd'] < timedelta(days = 0)).value_counts()\n",
    "\n",
    "(df['days_btw_accident_and_claim_estd'] <  0).value_counts()"
   ]
  },
  {
   "cell_type": "code",
   "execution_count": 22,
   "metadata": {},
   "outputs": [
    {
     "data": {
      "text/plain": [
       "Index(['Accident', 'Accident Date', 'Age at Injury',\n",
       "       'Alternative Dispute Resolution', 'ANCR Date', 'Assembly Date',\n",
       "       'Attorney/Representative', 'Average Weekly Wage', 'Birth Year',\n",
       "       'Carrier Name', 'Carrier Type', 'Claim Identifier', 'Claim Injury Type',\n",
       "       'Claim Type', 'Closed Count', 'County of Injury',\n",
       "       'Current Claim Status', 'District Name', 'First Hearing Date', 'Gender',\n",
       "       'Industry Code', 'Industry Code Description',\n",
       "       'Interval Assembled to ANCR', 'Medical Fee Region',\n",
       "       'Occupational Disease', 'OIICS Event Exposure Code',\n",
       "       'OIICS Event Exposure Description', 'OIICS Injury Source Code',\n",
       "       'OIICS Injury Source Description', 'OIICS Nature of Injury Code',\n",
       "       'OIICS Nature of Injury Description', 'OIICS Part Of Body Code',\n",
       "       'OIICS Part Of Body Description', 'OIICS Secondary Source Code',\n",
       "       'OIICS Secondary Source Description', 'WCIO Cause of Injury Code',\n",
       "       'WCIO Cause of Injury Description', 'WCIO Nature of Injury Code',\n",
       "       'WCIO Nature of Injury Description', 'WCIO Part Of Body Code',\n",
       "       'WCIO Part Of Body Description', 'Zip Code', 'accident_year',\n",
       "       'accident_month', 'days_btw_accident_and_claim_estd'],\n",
       "      dtype='object')"
      ]
     },
     "execution_count": 22,
     "metadata": {},
     "output_type": "execute_result"
    }
   ],
   "source": [
    "df.columns"
   ]
  },
  {
   "cell_type": "code",
   "execution_count": 58,
   "metadata": {},
   "outputs": [],
   "source": [
    "# df = df[df['days_btw_accident_and_claim_estd'] > timedelta(days=0)]\n",
    "\n",
    "\n",
    "\n",
    "df.loc[df['days_btw_accident_and_claim_estd'] < 0 , \"days_btw_accident_and_claim_estd\"] = np.nan"
   ]
  },
  {
   "cell_type": "code",
   "execution_count": 59,
   "metadata": {},
   "outputs": [
    {
     "data": {
      "text/plain": [
       "(4499798, 45)"
      ]
     },
     "execution_count": 59,
     "metadata": {},
     "output_type": "execute_result"
    }
   ],
   "source": [
    "df.shape"
   ]
  },
  {
   "cell_type": "code",
   "execution_count": 61,
   "metadata": {},
   "outputs": [
    {
     "data": {
      "text/plain": [
       "0            NaN\n",
       "1            NaN\n",
       "2            NaN\n",
       "3            NaN\n",
       "4            NaN\n",
       "           ...  \n",
       "4499793    166.0\n",
       "4499794      NaN\n",
       "4499795      NaN\n",
       "4499796      NaN\n",
       "4499797      NaN\n",
       "Name: days_btw_accident_and_claim_estd, Length: 4499798, dtype: float64"
      ]
     },
     "execution_count": 61,
     "metadata": {},
     "output_type": "execute_result"
    }
   ],
   "source": [
    "df['days_btw_accident_and_claim_estd']\n"
   ]
  },
  {
   "cell_type": "code",
   "execution_count": 46,
   "metadata": {},
   "outputs": [
    {
     "name": "stdout",
     "output_type": "stream",
     "text": [
      "handled IntCastingNaNError\n"
     ]
    }
   ],
   "source": [
    "# try:\n",
    "#     df['days_btw_accident_and_claim_estd'] = df['days_btw_accident_and_claim_estd'].dt.days.astype('int16')\n",
    "# except:\n",
    "#     print(\"handled IntCastingNaNError\")\n",
    "    "
   ]
  },
  {
   "cell_type": "code",
   "execution_count": 62,
   "metadata": {},
   "outputs": [
    {
     "data": {
      "text/plain": [
       "0            NaN\n",
       "1            NaN\n",
       "2            NaN\n",
       "3            NaN\n",
       "4            NaN\n",
       "           ...  \n",
       "4499793    166.0\n",
       "4499794      NaN\n",
       "4499795      NaN\n",
       "4499796      NaN\n",
       "4499797      NaN\n",
       "Name: days_btw_accident_and_claim_estd, Length: 4499798, dtype: float64"
      ]
     },
     "execution_count": 62,
     "metadata": {},
     "output_type": "execute_result"
    }
   ],
   "source": [
    "df['days_btw_accident_and_claim_estd']"
   ]
  },
  {
   "cell_type": "code",
   "execution_count": null,
   "metadata": {},
   "outputs": [],
   "source": [
    "# days inbetween accident occured and reported to insurance company where the worker has lost employment more than a week\n",
    "# df['days_btw_accident_and_claim_assembled_morethan_one_week'] =  df['Assembly Date'] - df['Accident Date']\n",
    "# df['days_btw_accident_and_claim_assembled_morethan_one_week'].value_counts()"
   ]
  },
  {
   "cell_type": "code",
   "execution_count": null,
   "metadata": {},
   "outputs": [],
   "source": [
    "# days inbetween claim registeres and claim compensation negotiated \n",
    "# df['days_btw_claim_est_and_negotiated'] = df['Section 32 Date'] - df['ANCR Date']\n",
    "# df['days_btw_claim_est_and_negotiated'].value_counts()"
   ]
  },
  {
   "cell_type": "code",
   "execution_count": 63,
   "metadata": {},
   "outputs": [
    {
     "data": {
      "text/plain": [
       "(4392532, 45)"
      ]
     },
     "execution_count": 63,
     "metadata": {},
     "output_type": "execute_result"
    }
   ],
   "source": [
    "#removing data before the year 2000\n",
    "df = df[df['accident_year']>=2000]\n",
    "df.shape"
   ]
  },
  {
   "cell_type": "code",
   "execution_count": null,
   "metadata": {},
   "outputs": [],
   "source": [
    "df['accident_year'].value_counts(sort = 'Ascending')"
   ]
  },
  {
   "cell_type": "markdown",
   "metadata": {},
   "source": [
    "##### * grouping similar body parts together and creating another column\n"
   ]
  },
  {
   "cell_type": "code",
   "execution_count": 65,
   "metadata": {},
   "outputs": [
    {
     "data": {
      "text/plain": [
       "LOWER BACK AREA                                          281757\n",
       "KNEE                                                     225661\n",
       "FINGER(S)                                                180835\n",
       "SHOULDER(S)                                              169276\n",
       "MULTIPLE BODY PARTS (INCLUDING BODY                      161337\n",
       "HAND                                                     146663\n",
       "ANKLE                                                    104356\n",
       "WRIST                                                     86379\n",
       "FOOT                                                      83327\n",
       "SOFT TISSUE                                               82716\n",
       "LOWER ARM                                                 75909\n",
       "EYE(S)                                                    65675\n",
       "THUMB                                                     60769\n",
       "LOWER LEG                                                 55517\n",
       "MULTIPLE HEAD INJURY                                      54922\n",
       "UPPER ARM                                                 51405\n",
       "ELBOW                                                     47596\n",
       "UPPER BACK AREA                                           38442\n",
       "CHEST                                                     35789\n",
       "ABDOMEN INCLUDING GROIN                                   31708\n",
       "SKULL                                                     31056\n",
       "MULTIPLE NECK INJURY                                      30668\n",
       "LUNGS                                                     27691\n",
       "HIP                                                       26940\n",
       "NO PHYSICAL INJURY                                        22705\n",
       "MULTIPLE UPPER EXTREMITIES                                21715\n",
       "BODY SYSTEMS AND MULTIPLE BODY SYSTEMS                    21095\n",
       "INSUFFICIENT INFO TO PROPERLY IDENTIFY - UNCLASSIFIED     21027\n",
       "UPPER LEG                                                 19821\n",
       "FACIAL BONES                                              18832\n",
       "DISC                                                      16615\n",
       "EAR(S)                                                    14107\n",
       "WRIST (S) & HAND(S)                                       13655\n",
       "MULTIPLE TRUNK                                            13520\n",
       "TOES                                                      13204\n",
       "MULTIPLE LOWER EXTREMITIES                                13030\n",
       "NOSE                                                      10998\n",
       "INTERNAL ORGANS                                           10756\n",
       "MOUTH                                                      9308\n",
       "BRAIN                                                      8058\n",
       "GREAT TOE                                                  8035\n",
       "LUMBAR & OR SACRAL VERTEBRAE (VERTEBRA                     6762\n",
       "VERTEBRAE                                                  5217\n",
       "BUTTOCKS                                                   5123\n",
       "TEETH                                                      4622\n",
       "WHOLE BODY                                                 4491\n",
       "PELVIS                                                     3727\n",
       "HEART                                                      3654\n",
       "SPINAL CORD                                                2897\n",
       "SACRUM AND COCCYX                                          2393\n",
       "LARYNX                                                      707\n",
       "TRACHEA                                                     457\n",
       "ARTIFICIAL APPLIANCE                                        139\n",
       "Name: WCIO Part Of Body Description, dtype: int64"
      ]
     },
     "execution_count": 65,
     "metadata": {},
     "output_type": "execute_result"
    }
   ],
   "source": [
    "df['WCIO Part Of Body Description'].value_counts()"
   ]
  },
  {
   "cell_type": "code",
   "execution_count": 66,
   "metadata": {},
   "outputs": [
    {
     "name": "stderr",
     "output_type": "stream",
     "text": [
      "c:\\Users\\govindd1\\AppData\\Local\\Programs\\Python\\Python39\\lib\\site-packages\\pandas\\core\\indexing.py:1684: SettingWithCopyWarning: \n",
      "A value is trying to be set on a copy of a slice from a DataFrame.\n",
      "Try using .loc[row_indexer,col_indexer] = value instead\n",
      "\n",
      "See the caveats in the documentation: https://pandas.pydata.org/pandas-docs/stable/user_guide/indexing.html#returning-a-view-versus-a-copy\n",
      "  self.obj[key] = infer_fill_value(value)\n",
      "c:\\Users\\govindd1\\AppData\\Local\\Programs\\Python\\Python39\\lib\\site-packages\\pandas\\core\\indexing.py:1817: SettingWithCopyWarning: \n",
      "A value is trying to be set on a copy of a slice from a DataFrame.\n",
      "Try using .loc[row_indexer,col_indexer] = value instead\n",
      "\n",
      "See the caveats in the documentation: https://pandas.pydata.org/pandas-docs/stable/user_guide/indexing.html#returning-a-view-versus-a-copy\n",
      "  self._setitem_single_column(loc, value, pi)\n"
     ]
    }
   ],
   "source": [
    "#Arms\n",
    "\n",
    "df.loc[(df['WCIO Part Of Body Description'] == \"FINGER(S)\" ), 'injured_body_part'] = \"Arms\"\n",
    "df.loc[(df['WCIO Part Of Body Description'] == \"SHOULDER(S)\" ), 'injured_body_part'] = \"Arms\"\n",
    "df.loc[(df['WCIO Part Of Body Description'] == \"HAND\" ), 'injured_body_part'] = \"Arms\"\n",
    "df.loc[(df['WCIO Part Of Body Description'] == \"LOWER ARM\" ), 'injured_body_part'] = \"Arms\"\n",
    "df.loc[(df['WCIO Part Of Body Description'] == \"THUMB\" ), 'injured_body_part'] = \"Arms\"\n",
    "df.loc[(df['WCIO Part Of Body Description'] == \"UPPER ARM\" ), 'injured_body_part'] = \"Arms\"\n",
    "df.loc[(df['WCIO Part Of Body Description'] == \"ELBOW\" ), 'injured_body_part'] = \"Arms\"\n",
    "df.loc[(df['WCIO Part Of Body Description'] == \"WRIST (S) & HAND(S)\" ), 'injured_body_part'] = \"Arms\"\n",
    "\n",
    "#Face\n",
    "df.loc[(df['WCIO Part Of Body Description'] == \"EYE(S)\"), 'injured_body_part'] = \"Face\"\n",
    "df.loc[(df['WCIO Part Of Body Description'] == \"MULTIPLE HEAD INJURY\"), 'injured_body_part'] = \"Face\"\n",
    "df.loc[(df['WCIO Part Of Body Description'] == \"SKULL\"), 'injured_body_part'] = \"Face\"\n",
    "df.loc[(df['WCIO Part Of Body Description'] == \"FACIAL BONES\"), 'injured_body_part'] = \"Face\"\n",
    "df.loc[(df['WCIO Part Of Body Description'] == \"EAR(S)\"), 'injured_body_part'] = \"Face\"\n",
    "df.loc[(df['WCIO Part Of Body Description'] == \"NOSE\"), 'injured_body_part'] = \"Face\"\n",
    "df.loc[(df['WCIO Part Of Body Description'] == \"MOUTH\"), 'injured_body_part'] = \"Face\"\n",
    "df.loc[(df['WCIO Part Of Body Description'] == \"BRAIN\"), 'injured_body_part'] = \"Face\"\n",
    "df.loc[(df['WCIO Part Of Body Description'] == \"TEETH\"), 'injured_body_part'] = \"Face\"\n",
    "\n",
    "#Legs\n",
    "df.loc[(df['WCIO Part Of Body Description'] == \"KNEE\"), 'injured_body_part'] = \"Legs\"\n",
    "df.loc[(df['WCIO Part Of Body Description'] == \"ANKLE\"), 'injured_body_part'] = \"Legs\"\n",
    "df.loc[(df['WCIO Part Of Body Description'] == \"WRIST\"), 'injured_body_part'] = \"Legs\"\n",
    "df.loc[(df['WCIO Part Of Body Description'] == \"FOOT\"), 'injured_body_part'] = \"Legs\"\n",
    "df.loc[(df['WCIO Part Of Body Description'] == \"LOWER LEG\"), 'injured_body_part'] = \"Legs\"\n",
    "df.loc[(df['WCIO Part Of Body Description'] == \"UPPER LEG\"), 'injured_body_part'] = \"Legs\"\n",
    "df.loc[(df['WCIO Part Of Body Description'] == \"TOES\"), 'injured_body_part'] = \"Legs\"\n",
    "df.loc[(df['WCIO Part Of Body Description'] == \"MULTIPLE LOWER EXTREMITIES\"), 'injured_body_part'] = \"Legs\"\n",
    "df.loc[(df['WCIO Part Of Body Description'] == \"GREAT TOE\"), 'injured_body_part'] = \"Legs\"\n",
    "df.loc[(df['WCIO Part Of Body Description'] == \"BUTTOCKS\"), 'injured_body_part'] = \"Legs\"\n",
    "\n",
    "\n",
    "#multiple\n",
    "df.loc[(df['WCIO Part Of Body Description'] == \"MULTIPLE BODY PARTS (INCLUDING BODY\"), 'injured_body_part'] = \"Multiple\"\n",
    "df.loc[(df['WCIO Part Of Body Description'] == \"MULTIPLE UPPER EXTREMITIES\"), 'injured_body_part'] = \"Multiple\"\n",
    "df.loc[(df['WCIO Part Of Body Description'] == \"BODY SYSTEMS AND MULTIPLE BODY SYSTEMS\"), 'injured_body_part'] = \"Multiple\"\n",
    "df.loc[(df['WCIO Part Of Body Description'] == \"WHOLE BODY\"), 'injured_body_part'] = \"Multiple\"\n",
    "\n",
    "\n",
    "#others\n",
    "df.loc[(df['WCIO Part Of Body Description'] == \"SOFT TISSUE\"), 'injured_body_part'] = \"Others\"\n",
    "df.loc[(df['WCIO Part Of Body Description'] == \"NO PHYSICAL INJURY\"), 'injured_body_part'] = \"Others\"\n",
    "df.loc[(df['WCIO Part Of Body Description'] == \"INSUFFICIENT INFO TO PROPERLY IDENTIFY - UNCLASSIFIED\"), 'injured_body_part'] = \"Others\"\n",
    "df.loc[(df['WCIO Part Of Body Description'] == \"INTERNAL ORGANS\"), 'injured_body_part'] = \"Others\"\n",
    "df.loc[(df['WCIO Part Of Body Description'] == \"ARTIFICIAL APPLIANCE\"), 'injured_body_part'] = \"Others\"\n",
    "\n",
    "\n",
    "#Respiratory\n",
    "df.loc[(df['WCIO Part Of Body Description'] == \"LUNGS\"), 'injured_body_part'] = \"Respiratory\"\n",
    "df.loc[(df['WCIO Part Of Body Description'] == \"LARYNX\"), 'injured_body_part'] = \"Respiratory\"\n",
    "df.loc[(df['WCIO Part Of Body Description'] == \"SACRUM AND COCCYX\"), 'injured_body_part'] = \"Respiratory\"\n",
    "df.loc[(df['WCIO Part Of Body Description'] == \"TRACHEA\"), 'injured_body_part'] = \"Respiratory\"\n",
    "\n",
    "\n",
    "#spinal\n",
    "df.loc[(df['WCIO Part Of Body Description'] == \"LOWER BACK AREA\"), 'injured_body_part'] = \"Spinal\"\n",
    "df.loc[(df['WCIO Part Of Body Description'] == \"UPPER BACK AREA\"), 'injured_body_part'] = \"Spinal\"\n",
    "df.loc[(df['WCIO Part Of Body Description'] == \"MULTIPLE NECK INJURY\"), 'injured_body_part'] = \"Spinal\"\n",
    "df.loc[(df['WCIO Part Of Body Description'] == \"DISC\"), 'injured_body_part'] = \"Spinal\"\n",
    "df.loc[(df['WCIO Part Of Body Description'] == \"LUMBAR & OR SACRAL VERTEBRAE (VERTEBRA\"), 'injured_body_part'] = \"Spinal\"\n",
    "df.loc[(df['WCIO Part Of Body Description'] == \"VERTEBRAE\"), 'injured_body_part'] = \"Spinal\"\n",
    "df.loc[(df['WCIO Part Of Body Description'] == \"SPINAL CORD\"), 'injured_body_part'] = \"Spinal\"\n",
    "\n",
    "\n",
    "#Torso\n",
    "df.loc[(df['WCIO Part Of Body Description'] == \"CHEST\"), 'injured_body_part'] = \"Torso\"\n",
    "df.loc[(df['WCIO Part Of Body Description'] == \"ABDOMEN INCLUDING GROIN\"), 'injured_body_part'] = \"Torso\"\n",
    "df.loc[(df['WCIO Part Of Body Description'] == \"HIP\"), 'injured_body_part'] = \"Torso\"\n",
    "df.loc[(df['WCIO Part Of Body Description'] == \"MULTIPLE TRUNK\"), 'injured_body_part'] = \"Torso\"\n",
    "df.loc[(df['WCIO Part Of Body Description'] == \"PELVIS\"), 'injured_body_part'] = \"Torso\"\n",
    "df.loc[(df['WCIO Part Of Body Description'] == \"HEART\"), 'injured_body_part'] = \"Torso\"\n",
    "\n",
    "\n",
    "\n",
    "\n"
   ]
  },
  {
   "cell_type": "code",
   "execution_count": 67,
   "metadata": {},
   "outputs": [
    {
     "data": {
      "text/plain": [
       "Arms           746108\n",
       "Legs           614453\n",
       "Spinal         382358\n",
       "Face           217578\n",
       "Multiple       208638\n",
       "Others         137343\n",
       "Torso          115338\n",
       "Respiratory     31248\n",
       "Name: injured_body_part, dtype: int64"
      ]
     },
     "execution_count": 67,
     "metadata": {},
     "output_type": "execute_result"
    }
   ],
   "source": [
    "df['injured_body_part'].value_counts()"
   ]
  },
  {
   "cell_type": "code",
   "execution_count": 68,
   "metadata": {},
   "outputs": [
    {
     "name": "stderr",
     "output_type": "stream",
     "text": [
      "C:\\Users\\govindd1\\AppData\\Local\\Temp/ipykernel_15768/2948151100.py:1: FutureWarning: The default value of regex will change from True to False in a future version.\n",
      "  df['Carrier Name'] = df['Carrier Name'].str.replace(r'[^\\w\\s]+', '')\n",
      "C:\\Users\\govindd1\\AppData\\Local\\Temp/ipykernel_15768/2948151100.py:1: SettingWithCopyWarning: \n",
      "A value is trying to be set on a copy of a slice from a DataFrame.\n",
      "Try using .loc[row_indexer,col_indexer] = value instead\n",
      "\n",
      "See the caveats in the documentation: https://pandas.pydata.org/pandas-docs/stable/user_guide/indexing.html#returning-a-view-versus-a-copy\n",
      "  df['Carrier Name'] = df['Carrier Name'].str.replace(r'[^\\w\\s]+', '')\n",
      "C:\\Users\\govindd1\\AppData\\Local\\Temp/ipykernel_15768/2948151100.py:4: FutureWarning: The default value of regex will change from True to False in a future version.\n",
      "  df['Carrier Name'] = df['Carrier Name'].str.replace(pat, '')\n",
      "C:\\Users\\govindd1\\AppData\\Local\\Temp/ipykernel_15768/2948151100.py:4: SettingWithCopyWarning: \n",
      "A value is trying to be set on a copy of a slice from a DataFrame.\n",
      "Try using .loc[row_indexer,col_indexer] = value instead\n",
      "\n",
      "See the caveats in the documentation: https://pandas.pydata.org/pandas-docs/stable/user_guide/indexing.html#returning-a-view-versus-a-copy\n",
      "  df['Carrier Name'] = df['Carrier Name'].str.replace(pat, '')\n"
     ]
    }
   ],
   "source": [
    "df['Carrier Name'] = df['Carrier Name'].str.replace(r'[^\\w\\s]+', '')\n",
    "remove_words = ['CO', 'COMPANY', 'pls', 'CORP', 'CORPORATION', 'DIST', 'DISTRICT', 'INC', 'SCH', 'CSD', 'OF', 'C S D', 'COR', 'INS', 'DT', 'CT', 'LLC']\n",
    "pat = r'\\b(?:{})\\b'.format('|'.join(remove_words))\n",
    "df['Carrier Name'] = df['Carrier Name'].str.replace(pat, '')"
   ]
  },
  {
   "cell_type": "code",
   "execution_count": null,
   "metadata": {},
   "outputs": [],
   "source": [
    "df.to_csv('./Cleaned_workers_compensation_data.csv')"
   ]
  },
  {
   "cell_type": "markdown",
   "metadata": {},
   "source": [
    "### --------------------------------------  All the Cleaning Work Done in the Cells Above --------------------------------------"
   ]
  },
  {
   "cell_type": "code",
   "execution_count": null,
   "metadata": {},
   "outputs": [],
   "source": [
    "df['Carrier Name'].value_counts()"
   ]
  },
  {
   "cell_type": "code",
   "execution_count": null,
   "metadata": {},
   "outputs": [],
   "source": [
    "df['OIICS Part Of Body Description'].value_counts().plot(kind='barh', subplots=True, figsize=(20,10))"
   ]
  },
  {
   "cell_type": "code",
   "execution_count": null,
   "metadata": {},
   "outputs": [],
   "source": [
    "\n",
    "age_distribution = df['Age at Injury'].value_counts().plot(kind = 'bar', subplots=True, figsize = (30,10))\n"
   ]
  },
  {
   "cell_type": "code",
   "execution_count": null,
   "metadata": {},
   "outputs": [],
   "source": [
    "df['Current Claim Status'].value_counts().plot(kind='barh', subplots = True, figsize=(30,10))"
   ]
  },
  {
   "cell_type": "code",
   "execution_count": null,
   "metadata": {},
   "outputs": [],
   "source": [
    "df['OIICS Nature of Injury Description'].value_counts().plot(kind='barh', subplots=True, figsize=(20,10))"
   ]
  },
  {
   "cell_type": "code",
   "execution_count": null,
   "metadata": {},
   "outputs": [],
   "source": [
    "df['Carrier Name'] = df['Carrier Name'].str.replace(r'[^\\w\\s]+', '')\n",
    "remove_words = ['CO', 'COMPANY', 'pls', 'CORP', 'CORPORATION', 'DIST', 'DISTRICT', 'INC', 'SCH', 'CSD', 'OF', 'C S D', 'COR', 'INS', 'DT', 'CT', 'LLC']\n",
    "pat = r'\\b(?:{})\\b'.format('|'.join(remove_words))\n",
    "df['Carrier Name'] = df['Carrier Name'].str.replace(pat, '')"
   ]
  },
  {
   "cell_type": "code",
   "execution_count": null,
   "metadata": {},
   "outputs": [],
   "source": []
  },
  {
   "cell_type": "markdown",
   "metadata": {},
   "source": [
    "# group by carrier name"
   ]
  },
  {
   "cell_type": "code",
   "execution_count": null,
   "metadata": {},
   "outputs": [],
   "source": [
    "df['Carrier Name'].value_counts()"
   ]
  },
  {
   "cell_type": "code",
   "execution_count": null,
   "metadata": {},
   "outputs": [],
   "source": [
    "group_by_carrier = df.groupby(by=['Carrier Name'])\n"
   ]
  },
  {
   "cell_type": "code",
   "execution_count": null,
   "metadata": {},
   "outputs": [],
   "source": [
    "\n",
    "\n",
    "avg_days_to_settle_claim = group_by_carrier['days_btw_claim_est_and_negotiated'].mean()\n",
    "avg_days_to_settle_claim\n"
   ]
  },
  {
   "cell_type": "code",
   "execution_count": null,
   "metadata": {},
   "outputs": [],
   "source": [
    "group_by_carrier.mean()"
   ]
  },
  {
   "cell_type": "code",
   "execution_count": null,
   "metadata": {},
   "outputs": [],
   "source": [
    "carrier_gpd = group_by_carrier.get_group('STATE INSURANCE FUND')"
   ]
  },
  {
   "cell_type": "code",
   "execution_count": null,
   "metadata": {},
   "outputs": [],
   "source": [
    "carrier_gpd['days_btw_claim_est_and_negotiated'].mean()"
   ]
  },
  {
   "cell_type": "code",
   "execution_count": null,
   "metadata": {},
   "outputs": [],
   "source": []
  },
  {
   "cell_type": "code",
   "execution_count": null,
   "metadata": {},
   "outputs": [],
   "source": []
  },
  {
   "cell_type": "code",
   "execution_count": null,
   "metadata": {},
   "outputs": [],
   "source": []
  },
  {
   "cell_type": "code",
   "execution_count": null,
   "metadata": {},
   "outputs": [],
   "source": []
  },
  {
   "cell_type": "markdown",
   "metadata": {},
   "source": [
    "# Grouping by Status of claims EDA\n",
    "\n"
   ]
  },
  {
   "cell_type": "code",
   "execution_count": null,
   "metadata": {},
   "outputs": [],
   "source": [
    "group_by_label = df.groupby(by=['Current Claim Status'])\n",
    "gpd_settled = group_by_label.get_group('NO FURTHER ACTION')"
   ]
  },
  {
   "cell_type": "code",
   "execution_count": null,
   "metadata": {},
   "outputs": [],
   "source": [
    "gpd_settled"
   ]
  },
  {
   "cell_type": "code",
   "execution_count": null,
   "metadata": {},
   "outputs": [],
   "source": [
    "gpd_settled['accident_year'].value_counts().plot(kind = 'bar', subplots=True, figsize = (30,10))"
   ]
  },
  {
   "cell_type": "code",
   "execution_count": null,
   "metadata": {},
   "outputs": [],
   "source": [
    "gpd_settled['Age at Injury'].value_counts().plot(kind = 'bar', subplots=True, figsize = (30,10))"
   ]
  },
  {
   "cell_type": "code",
   "execution_count": null,
   "metadata": {},
   "outputs": [],
   "source": [
    "gpd_settled['OIICS Nature of Injury Description'].value_counts().plot(kind='barh', subplots=True, figsize=(20,10))"
   ]
  },
  {
   "cell_type": "code",
   "execution_count": null,
   "metadata": {},
   "outputs": [],
   "source": [
    "df.columns"
   ]
  },
  {
   "cell_type": "code",
   "execution_count": null,
   "metadata": {},
   "outputs": [],
   "source": [
    "'OIICS Event Exposure Description', 'OIICS Injury Source Code',\n",
    "       'OIICS Injury Source Description', 'OIICS Nature of Injury Code',\n",
    "       'OIICS Nature of Injury Description', 'OIICS Part Of Body Code',\n",
    "       'OIICS Part Of Body Description', 'OIICS Secondary Source Code',\n",
    "       'OIICS Secondary Source Description', 'PPD Non-Scheduled Loss Date',"
   ]
  },
  {
   "cell_type": "code",
   "execution_count": null,
   "metadata": {},
   "outputs": [],
   "source": [
    "df['OIICS Event Exposure Description'].value_counts().plot(kind='barh', subplots=True, figsize=(20,10))"
   ]
  },
  {
   "cell_type": "code",
   "execution_count": null,
   "metadata": {},
   "outputs": [],
   "source": [
    "df['OIICS Injury Source Description'].value_counts().plot(kind='barh', subplots=True, figsize=(20,20))"
   ]
  },
  {
   "cell_type": "code",
   "execution_count": null,
   "metadata": {},
   "outputs": [],
   "source": [
    "group_by_label = df.groupby(by=['accident_year'])\n",
    "year_grpd_df = group_by_label.get_group(2018)"
   ]
  },
  {
   "cell_type": "code",
   "execution_count": null,
   "metadata": {},
   "outputs": [],
   "source": [
    "year_grpd_df"
   ]
  },
  {
   "cell_type": "code",
   "execution_count": null,
   "metadata": {},
   "outputs": [],
   "source": [
    "year_grpd_df['WCIO Cause of Injury Description'].value_counts().plot(kind='barh', subplots=True, figsize=(20,20))"
   ]
  },
  {
   "cell_type": "code",
   "execution_count": null,
   "metadata": {},
   "outputs": [],
   "source": [
    "year_grpd_df['WCIO Cause of Injury Description'].value_counts()"
   ]
  },
  {
   "cell_type": "code",
   "execution_count": null,
   "metadata": {},
   "outputs": [],
   "source": []
  }
 ],
 "metadata": {
  "interpreter": {
   "hash": "407a887461ce53161ddfdf1edc0e1b17219fbffb0b0a5b566f7a61ee9096dc97"
  },
  "kernelspec": {
   "display_name": "Python 3 (ipykernel)",
   "language": "python",
   "name": "python3"
  },
  "language_info": {
   "codemirror_mode": {
    "name": "ipython",
    "version": 3
   },
   "file_extension": ".py",
   "mimetype": "text/x-python",
   "name": "python",
   "nbconvert_exporter": "python",
   "pygments_lexer": "ipython3",
   "version": "3.9.7"
  }
 },
 "nbformat": 4,
 "nbformat_minor": 2
}
