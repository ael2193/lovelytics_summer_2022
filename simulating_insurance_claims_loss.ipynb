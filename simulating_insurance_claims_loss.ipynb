{
 "cells": [
  {
   "cell_type": "code",
   "execution_count": 1,
   "metadata": {},
   "outputs": [],
   "source": [
    "import numpy as np\n",
    "import pandas as pd\n"
   ]
  },
  {
   "cell_type": "code",
   "execution_count": 23,
   "metadata": {},
   "outputs": [],
   "source": [
    "from scipy.stats import gamma\n",
    "\n",
    "shape, scale = 2, 0.5\n",
    "\n",
    "s = np.random.default_rng().gamma(shape, scale, 1000000)\n",
    "\n"
   ]
  },
  {
   "cell_type": "code",
   "execution_count": 30,
   "metadata": {},
   "outputs": [
    {
     "name": "stdout",
     "output_type": "stream",
     "text": [
      "207347\n",
      "149531\n",
      "205192\n",
      "138071\n",
      "80329\n",
      "836793\n",
      "469663\n",
      "47515\n",
      "818215\n",
      "702543\n",
      "176208\n",
      "742343\n",
      "947544\n",
      "425004\n",
      "515576\n",
      "20724\n",
      "886290\n",
      "566832\n",
      "193345\n",
      "153109\n",
      "593426\n",
      "94865\n",
      "540160\n",
      "358049\n",
      "167304\n",
      "608507\n",
      "191185\n",
      "98358\n",
      "962782\n",
      "655052\n",
      "260510\n",
      "716812\n",
      "322768\n",
      "493107\n",
      "680391\n",
      "225698\n",
      "573286\n",
      "554798\n",
      "832691\n",
      "303528\n",
      "557459\n",
      "86974\n",
      "202185\n",
      "990760\n",
      "736204\n",
      "581442\n",
      "51328\n",
      "332628\n",
      "945086\n",
      "385120\n",
      "403656\n",
      "510825\n",
      "566308\n",
      "73872\n",
      "232498\n",
      "925571\n",
      "392111\n",
      "98283\n",
      "879052\n",
      "198238\n",
      "742713\n",
      "82397\n",
      "386990\n",
      "39249\n",
      "229667\n",
      "51428\n",
      "304505\n",
      "626811\n",
      "382962\n",
      "542660\n",
      "430825\n",
      "271407\n",
      "698093\n",
      "9015\n",
      "279248\n",
      "681598\n",
      "701134\n",
      "776178\n",
      "605747\n",
      "645777\n",
      "994052\n",
      "906651\n",
      "299803\n",
      "462220\n",
      "910146\n",
      "874205\n",
      "366762\n",
      "374024\n",
      "811155\n",
      "799438\n",
      "738392\n",
      "553811\n",
      "511431\n",
      "445559\n",
      "593106\n",
      "989022\n",
      "109861\n",
      "762922\n",
      "584892\n",
      "666089\n",
      "715392\n",
      "372040\n",
      "999019\n",
      "405775\n",
      "930328\n",
      "269523\n",
      "344443\n",
      "253074\n",
      "237879\n",
      "104572\n",
      "279293\n",
      "518296\n",
      "331645\n",
      "570792\n",
      "168296\n",
      "895538\n",
      "754417\n",
      "897979\n",
      "399889\n",
      "779829\n",
      "588036\n",
      "498008\n",
      "181550\n",
      "957300\n",
      "557049\n",
      "72779\n",
      "861582\n",
      "947233\n",
      "629133\n",
      "781006\n",
      "278357\n",
      "331025\n",
      "882645\n",
      "981242\n",
      "356057\n",
      "584130\n",
      "194272\n",
      "850050\n",
      "14656\n",
      "362981\n",
      "459507\n",
      "428595\n",
      "433168\n",
      "450685\n",
      "567020\n",
      "504779\n",
      "79505\n",
      "855300\n",
      "856645\n",
      "579510\n",
      "843906\n",
      "426840\n",
      "546782\n",
      "499114\n",
      "597323\n",
      "429387\n",
      "902310\n",
      "998063\n",
      "222804\n",
      "926284\n",
      "244441\n",
      "752945\n",
      "977469\n",
      "587055\n",
      "305938\n",
      "276281\n",
      "437395\n",
      "670356\n",
      "655250\n",
      "656779\n",
      "772470\n",
      "32119\n",
      "487083\n",
      "133179\n",
      "112841\n",
      "696420\n",
      "201093\n",
      "246265\n",
      "482759\n",
      "582110\n",
      "323159\n",
      "929417\n",
      "108453\n",
      "824491\n",
      "770787\n",
      "651697\n",
      "837337\n",
      "875647\n",
      "668791\n",
      "662746\n",
      "916481\n",
      "838801\n",
      "208506\n",
      "547786\n",
      "648217\n",
      "210073\n",
      "148141\n",
      "769502\n",
      "425775\n",
      "8747\n"
     ]
    }
   ],
   "source": [
    "import random\n",
    "for x in range(200):\n",
    "  print(random.randint(1000,1000000),)\n"
   ]
  },
  {
   "cell_type": "code",
   "execution_count": 32,
   "metadata": {},
   "outputs": [
    {
     "data": {
      "image/png": "[encoded data removed]",
      "text/plain": [
       "<Figure size 432x288 with 1 Axes>"
      ]
     },
     "metadata": {
      "needs_background": "light"
     },
     "output_type": "display_data"
    }
   ],
   "source": [
    "import matplotlib.pyplot as plt\n",
    "import scipy.special as sps  \n",
    "count, bins, ignored = plt.hist(s, 50, density=True)\n",
    "y = bins**(shape-1)*(np.exp(-bins/scale) /  \n",
    "                     (sps.gamma(shape)*scale**shape))\n",
    "plt.plot(bins, y, linewidth=2, color='r')  \n",
    "plt.show()"
   ]
  },
  {
   "cell_type": "code",
   "execution_count": 25,
   "metadata": {},
   "outputs": [
    {
     "data": {
      "text/plain": [
       "(1000000,)"
      ]
     },
     "execution_count": 25,
     "metadata": {},
     "output_type": "execute_result"
    }
   ],
   "source": [
    "s.shape"
   ]
  },
  {
   "cell_type": "code",
   "execution_count": 26,
   "metadata": {},
   "outputs": [
    {
     "data": {
      "text/plain": [
       "0.9996592556299546"
      ]
     },
     "execution_count": 26,
     "metadata": {},
     "output_type": "execute_result"
    }
   ],
   "source": [
    "s.mean()"
   ]
  },
  {
   "cell_type": "code",
   "execution_count": 15,
   "metadata": {},
   "outputs": [
    {
     "data": {
      "text/plain": [
       "array([0.57800449, 2.05920123, 0.89838747, ..., 1.42684552, 1.41627601,\n",
       "       0.40851931])"
      ]
     },
     "execution_count": 15,
     "metadata": {},
     "output_type": "execute_result"
    }
   ],
   "source": [
    "s"
   ]
  },
  {
   "cell_type": "code",
   "execution_count": 25,
   "metadata": {},
   "outputs": [
    {
     "data": {
      "text/plain": [
       "array([5.83637757e-11, 2.71560319e-08, 3.60888030e-08, 3.59870973e-08,\n",
       "       3.19021823e-08, 2.65146530e-08, 2.11559772e-08, 1.64116292e-08,\n",
       "       1.24715133e-08, 9.32931284e-09, 6.89265993e-09, 5.04150842e-09,\n",
       "       3.65705052e-09, 2.63436345e-09, 1.88644249e-09, 1.34397269e-09,\n",
       "       9.53242042e-10, 6.73467205e-10, 4.74159673e-10, 3.32805506e-10,\n",
       "       2.32944184e-10, 1.62639601e-10, 1.13296098e-10, 7.87599603e-11,\n",
       "       5.46480133e-11, 3.78519902e-11, 2.61762670e-11, 1.80752309e-11,\n",
       "       1.24641856e-11, 8.58400019e-12, 5.90471405e-12, 4.05718912e-12,\n",
       "       2.78483533e-12, 1.90963120e-12, 1.30827950e-12, 8.95520950e-13,\n",
       "       6.12486222e-13, 4.18583100e-13, 2.85857591e-13, 1.95081879e-13,\n",
       "       1.33044990e-13, 9.06793969e-14, 6.17675401e-14, 4.20499745e-14,\n",
       "       2.86112109e-14, 1.94572909e-14, 1.32255578e-14, 8.98546068e-15,\n",
       "       6.10196991e-15, 4.14201102e-15, 2.81042196e-15])"
      ]
     },
     "execution_count": 25,
     "metadata": {},
     "output_type": "execute_result"
    }
   ],
   "source": [
    "y"
   ]
  },
  {
   "cell_type": "code",
   "execution_count": 30,
   "metadata": {},
   "outputs": [],
   "source": [
    "x = np.linspace(0, 4000000, 100).round()"
   ]
  },
  {
   "cell_type": "code",
   "execution_count": 31,
   "metadata": {},
   "outputs": [
    {
     "data": {
      "text/plain": [
       "array([      0.,   40404.,   80808.,  121212.,  161616.,  202020.,\n",
       "        242424.,  282828.,  323232.,  363636.,  404040.,  444444.,\n",
       "        484848.,  525253.,  565657.,  606061.,  646465.,  686869.,\n",
       "        727273.,  767677.,  808081.,  848485.,  888889.,  929293.,\n",
       "        969697., 1010101., 1050505., 1090909., 1131313., 1171717.,\n",
       "       1212121., 1252525., 1292929., 1333333., 1373737., 1414141.,\n",
       "       1454545., 1494949., 1535354., 1575758., 1616162., 1656566.,\n",
       "       1696970., 1737374., 1777778., 1818182., 1858586., 1898990.,\n",
       "       1939394., 1979798., 2020202., 2060606., 2101010., 2141414.,\n",
       "       2181818., 2222222., 2262626., 2303030., 2343434., 2383838.,\n",
       "       2424242., 2464646., 2505051., 2545455., 2585859., 2626263.,\n",
       "       2666667., 2707071., 2747475., 2787879., 2828283., 2868687.,\n",
       "       2909091., 2949495., 2989899., 3030303., 3070707., 3111111.,\n",
       "       3151515., 3191919., 3232323., 3272727., 3313131., 3353535.,\n",
       "       3393939., 3434343., 3474747., 3515152., 3555556., 3595960.,\n",
       "       3636364., 3676768., 3717172., 3757576., 3797980., 3838384.,\n",
       "       3878788., 3919192., 3959596., 4000000.])"
      ]
     },
     "execution_count": 31,
     "metadata": {},
     "output_type": "execute_result"
    }
   ],
   "source": [
    "x"
   ]
  },
  {
   "cell_type": "code",
   "execution_count": null,
   "metadata": {},
   "outputs": [],
   "source": []
  }
 ],
 "metadata": {
  "kernelspec": {
   "display_name": "Python 3.9.7 64-bit",
   "language": "python",
   "name": "python3"
  },
  "language_info": {
   "codemirror_mode": {
    "name": "ipython",
    "version": 3
   },
   "file_extension": ".py",
   "mimetype": "text/x-python",
   "name": "python",
   "nbconvert_exporter": "python",
   "pygments_lexer": "ipython3",
   "version": "3.9.7"
  },
  "orig_nbformat": 4,
  "vscode": {
   "interpreter": {
    "hash": "407a887461ce53161ddfdf1edc0e1b17219fbffb0b0a5b566f7a61ee9096dc97"
   }
  }
 },
 "nbformat": 4,
 "nbformat_minor": 2
}
