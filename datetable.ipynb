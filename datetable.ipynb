{
 "cells": [
  {
   "cell_type": "code",
   "execution_count": 3,
   "metadata": {},
   "outputs": [],
   "source": [
    "import pandas as pd\n",
    "from datetime import date, timedelta\n",
    "pd.set_option(\"display.max_rows\", None)\n",
    "\n",
    "\n"
   ]
  },
  {
   "cell_type": "code",
   "execution_count": 4,
   "metadata": {},
   "outputs": [],
   "source": [
    "period_index = pd.period_range(start='0001-01-01', end='9999-12-31')\n",
    "\n"
   ]
  },
  {
   "cell_type": "code",
   "execution_count": 5,
   "metadata": {},
   "outputs": [
    {
     "data": {
      "text/plain": [
       "PeriodIndex(['0001-01-01', '0001-01-02', '0001-01-03', '0001-01-04',\n",
       "             '0001-01-05', '0001-01-06', '0001-01-07', '0001-01-08',\n",
       "             '0001-01-09', '0001-01-10',\n",
       "             ...\n",
       "             '9999-12-22', '9999-12-23', '9999-12-24', '9999-12-25',\n",
       "             '9999-12-26', '9999-12-27', '9999-12-28', '9999-12-29',\n",
       "             '9999-12-30', '9999-12-31'],\n",
       "            dtype='period[D]', length=3652059)"
      ]
     },
     "execution_count": 5,
     "metadata": {},
     "output_type": "execute_result"
    }
   ],
   "source": [
    "period_index"
   ]
  },
  {
   "cell_type": "code",
   "execution_count": 6,
   "metadata": {},
   "outputs": [],
   "source": [
    "df = pd.DataFrame (period_index, columns = ['Dates'])\n",
    "\n"
   ]
  },
  {
   "cell_type": "code",
   "execution_count": 7,
   "metadata": {},
   "outputs": [
    {
     "data": {
      "text/plain": [
       "True"
      ]
     },
     "execution_count": 7,
     "metadata": {},
     "output_type": "execute_result"
    }
   ],
   "source": [
    "df['Dates'].is_unique"
   ]
  },
  {
   "cell_type": "code",
   "execution_count": null,
   "metadata": {},
   "outputs": [],
   "source": [
    "#Arms\n",
    "df.loc[(df['WCIO Part Of Body Description'] == \"FINGER(S\"), 'injured_body_part'] = \"Arms\"\n",
    "df.loc[(df['WCIO Part Of Body Description'] == \"WRIST(S)\"), 'injured_body_part'] = \"Arms\"\n",
    "df.loc[(df['WCIO Part Of Body Description'] == \"ARM(S)\"), 'injured_body_part'] = \"Arms\"\n",
    "df.loc[(df['WCIO Part Of Body Description'] == \"FINGER(S), FINGERNAIL(S)\"), 'injured_body_part'] = \"Arms\"\n",
    "\n",
    "\n",
    "\n",
    "\n",
    "#Face\n",
    "df.loc[(df['WCIO Part Of Body Description'] == \"CRANIALREGION, INCLUDING SKULL\"), 'injured_body_part'] = \"Face\"\n",
    "df.loc[(df['WCIO Part Of Body Description'] == \"FACE\"), 'injured_body_part'] = \"Face\"\n",
    "df.loc[(df['WCIO Part Of Body Description'] == \"EAR(S)\"), 'injured_body_part'] = \"Face\"\n",
    "df.loc[(df['WCIO Part Of Body Description'] == \"HEAD,UNS.\"), 'injured_body_part'] = \"Face\"\n",
    "df.loc[(df['WCIO Part Of Body Description'] == \"HEAD,MULTIPLE LOCATIONS\"), 'injured_body_part'] = \"Face\"\n",
    "df.loc[(df['WCIO Part Of Body Description'] == \"HEAD,N.E.C.\"), 'injured_body_part'] = \"Face\"\n",
    "\n",
    "#Legs\n",
    "df.loc[(df['WCIO Part Of Body Description'] == \"LEG(S)\"), 'injured_body_part'] = \"Legs\"\n",
    "df.loc[(df['WCIO Part Of Body Description'] == \"ANKLE(S)\"), 'injured_body_part'] = \"Legs\"\n",
    "df.loc[(df['WCIO Part Of Body Description'] == \"FOOT(FEET),EXCEPT TOE(S)\"), 'injured_body_part'] = \"Legs\"\n",
    "df.loc[(df['WCIO Part Of Body Description'] == \"LOWEREXTREMITIES, MULTIPLE LOCATIONS\"), 'injured_body_part'] = \"Legs\"\n",
    "df.loc[(df['WCIO Part Of Body Description'] == \"TOE(S),TOENAIL(S\"), 'injured_body_part'] = \"Legs\"\n",
    "\n",
    "#multiple\n",
    "df.loc[(df['WCIO Part Of Body Description'] == \"MULTIPLEBODY PARTS\"), 'injured_body_part'] = \"Multiple\"\n",
    "df.loc[(df['WCIO Part Of Body Description'] == \"UPPEREXTREMITIES, MULTIPLE LOCATIONS\"), 'injured_body_part'] = \"Multiple\"\n",
    "df.loc[(df['WCIO Part Of Body Description'] == \"UPPEREXTREMITIES, N.E.C.\"), 'injured_body_part'] = \"Multiple\"\n",
    "df.loc[(df['WCIO Part Of Body Description'] == \"LOWEREXTREMITIES, N.E.C\"), 'injured_body_part'] = \"Multiple\"\n",
    "df.loc[(df['WCIO Part Of Body Description'] == \"UPPEREXTREMITIES, UNSPECIFIED\"), 'injured_body_part'] = \"Multiple\"\n",
    "df.loc[(df['WCIO Part Of Body Description'] == \"LOWEREXTREMITIES, UNS.\"), 'injured_body_part'] = \"Multiple\"\n",
    "\n",
    "#others\n",
    "df.loc[(df['WCIO Part Of Body Description'] == \"BODYSYSTEMS\"), 'injured_body_part'] = \"Others\"\n",
    "df.loc[(df['WCIO Part Of Body Description'] == \"NONCLASSIFIABLE\"), 'injured_body_part'] = \"Others\"\n",
    "df.loc[(df['WCIO Part Of Body Description'] == \"PROSTHETICDEVICES\"), 'injured_body_part'] = \"Others\"\n",
    "df.loc[(df['WCIO Part Of Body Description'] == \"OTHERBODY PARTS, N.E.C.\"), 'injured_body_part'] = \"Others\"\n",
    "\n",
    "#Respiratory\n",
    "df.loc[(df['WCIO Part Of Body Description'] == \"VOCALCORD(S)\"), 'injured_body_part'] = \"Respiratory\"\n",
    "df.loc[(df['WCIO Part Of Body Description'] == \"LARYNX\"), 'injured_body_part'] = \"Respiratory\"\n",
    "df.loc[(df['WCIO Part Of Body Description'] == \"PHARYNX\"), 'injured_body_part'] = \"Respiratory\"\n",
    "df.loc[(df['WCIO Part Of Body Description'] == \"LARYNGOPHARYNX\"), 'injured_body_part'] = \"Respiratory\"\n",
    "df.loc[(df['WCIO Part Of Body Description'] == \"TRACHEA\"), 'injured_body_part'] = \"Respiratory\"\n",
    "\n",
    "#spinal\n",
    "df.loc[(df['WCIO Part Of Body Description'] == \"BACK, INCLUDING SPINE, SPINAL CORD\"), 'injured_body_part'] = \"Spinal\"\n",
    "df.loc[(df['WCIO Part Of Body Description'] == \"NECK,EXTERNAL\"), 'injured_body_part'] = \"Spinal\"\n",
    "df.loc[(df['WCIO Part Of Body Description'] == \"NECK,INTERNAL LOCATION, N.E.C.\"), 'injured_body_part'] = \"Spinal\"\n",
    "df.loc[(df['WCIO Part Of Body Description'] == \"NECK,INTERNAL, MULTIPLE LOCATIONS\"), 'injured_body_part'] = \"Spinal\"\n",
    "df.loc[(df['WCIO Part Of Body Description'] == \"NECK,INTERNAL LOCATION, UNS.\"), 'injured_body_part'] = \"Spinal\"\n",
    "\n",
    "#Torso\n",
    "df.loc[(df['WCIO Part Of Body Description'] == \"SHOULDER,INCLUDING CLAVICLE, SCAPULA\"), 'injured_body_part'] = \"Torso\"\n",
    "df.loc[(df['WCIO Part Of Body Description'] == \"ABDOMEN\"), 'injured_body_part'] = \"Torso\"\n",
    "df.loc[(df['WCIO Part Of Body Description'] == \"CHEST,INCLUDING RIBS, INTERNAL ORGANS\"), 'injured_body_part'] = \"Torso\"\n",
    "df.loc[(df['WCIO Part Of Body Description'] == \"TRUNK,MULTIPLE LOCATIONS\"), 'injured_body_part'] = \"Torso\"\n",
    "df.loc[(df['WCIO Part Of Body Description'] == \"PELVICREGION\"), 'injured_body_part'] = \"Torso\"\n",
    "df.loc[(df['WCIO Part Of Body Description'] == \"TRUNK,N.E.C.\"), 'injured_body_part'] = \"Torso\"\n",
    "df.loc[(df['WCIO Part Of Body Description'] == \"TRUNK,UNS.\"), 'injured_body_part'] = \"Torso\""
   ]
  }
 ],
 "metadata": {
  "kernelspec": {
   "display_name": "Python 3.9.7 64-bit",
   "language": "python",
   "name": "python3"
  },
  "language_info": {
   "codemirror_mode": {
    "name": "ipython",
    "version": 3
   },
   "file_extension": ".py",
   "mimetype": "text/x-python",
   "name": "python",
   "nbconvert_exporter": "python",
   "pygments_lexer": "ipython3",
   "version": "3.9.7"
  },
  "orig_nbformat": 4,
  "vscode": {
   "interpreter": {
    "hash": "407a887461ce53161ddfdf1edc0e1b17219fbffb0b0a5b566f7a61ee9096dc97"
   }
  }
 },
 "nbformat": 4,
 "nbformat_minor": 2
}
